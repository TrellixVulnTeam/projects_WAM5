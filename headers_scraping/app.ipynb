{
 "metadata": {
  "language_info": {
   "codemirror_mode": {
    "name": "ipython",
    "version": 3
   },
   "file_extension": ".py",
   "mimetype": "text/x-python",
   "name": "python",
   "nbconvert_exporter": "python",
   "pygments_lexer": "ipython3",
   "version": "3.9.5"
  },
  "orig_nbformat": 2,
  "kernelspec": {
   "name": "python3",
   "display_name": "Python 3.9.5 64-bit",
   "metadata": {
    "interpreter": {
     "hash": "aee8b7b246df8f9039afb4144a1f6fd8d2ca17a180786b69acc140d282b71a49"
    }
   }
  }
 },
 "nbformat": 4,
 "nbformat_minor": 2,
 "cells": [
  {
   "cell_type": "code",
   "execution_count": 1,
   "metadata": {},
   "outputs": [],
   "source": [
    "import requests\n",
    "from bs4 import BeautifulSoup\n",
    "import pandas as pd"
   ]
  },
  {
   "cell_type": "code",
   "execution_count": 2,
   "metadata": {},
   "outputs": [],
   "source": [
    "crypto_url = \"https://finance.yahoo.com/cryptocurrencies\"\n",
    "r = requests.get(crypto_url)\n",
    "data = r.text\n",
    "soup = BeautifulSoup(data)"
   ]
  },
  {
   "cell_type": "code",
   "execution_count": 3,
   "metadata": {},
   "outputs": [],
   "source": [
    "raw_data = {}\n",
    "headers = []"
   ]
  },
  {
   "cell_type": "code",
   "execution_count": 4,
   "metadata": {},
   "outputs": [],
   "source": [
    "for header_row in soup.find_all('thead'):\n",
    "    for header in header_row.find_all('th'):\n",
    "        headers.append(header.text)\n",
    "        raw_data[header.text] = []"
   ]
  },
  {
   "cell_type": "code",
   "execution_count": 5,
   "metadata": {},
   "outputs": [],
   "source": [
    "for rows in soup.find_all('tbody'):\n",
    "    for row in rows.find_all('tr'):\n",
    "        for idx, cell in enumerate(row.find_all('td')):\n",
    "            header_value = headers[idx]\n",
    "            raw_data[header_value].append(cell.text)"
   ]
  },
  {
   "cell_type": "code",
   "execution_count": 6,
   "metadata": {},
   "outputs": [
    {
     "output_type": "execute_result",
     "data": {
      "text/plain": [
       "       Symbol                 Name Price (Intraday)     Change % Change  \\\n",
       "0     BTC-USD          Bitcoin USD        35,010.66  -3,929.77  -10.09%   \n",
       "1     ETH-USD         Ethereum USD         2,364.21    -410.67  -14.80%   \n",
       "2    USDT-USD           Tether USD           1.0007    -0.0004   -0.04%   \n",
       "3     BNB-USD      BinanceCoin USD           320.43     -53.03  -14.20%   \n",
       "4     ADA-USD          Cardano USD           1.4680    -0.2168  -12.87%   \n",
       "5     XRP-USD              XRP USD         0.868295  -0.119559  -12.10%   \n",
       "6    DOGE-USD         Dogecoin USD         0.305261  -0.032821   -9.71%   \n",
       "7    USDC-USD          USDCoin USD           1.0005    +0.0002   +0.02%   \n",
       "8    DOT1-USD         Polkadot USD            20.87      -3.41  -14.05%   \n",
       "9    UNI3-USD          Uniswap USD            25.30      -3.63  -12.54%   \n",
       "10    BCH-USD      BitcoinCash USD           675.41     -96.22  -12.47%   \n",
       "11   LINK-USD        Chainlink USD            27.46      -4.83  -14.95%   \n",
       "12    LTC-USD         Litecoin USD           172.12     -24.51  -12.47%   \n",
       "13  MATIC-USD     MaticNetwork USD           1.7712    -0.3143  -15.07%   \n",
       "14    HEX-USD              HEX USD         0.058201  -0.001578   -2.64%   \n",
       "15    XLM-USD          Stellar USD         0.390709  -0.037258   -8.71%   \n",
       "16   SOL1-USD           Solana USD            28.39      -6.59  -18.84%   \n",
       "17    ETC-USD  EthereumClassic USD            66.33      -9.04  -11.99%   \n",
       "18    VET-USD          VeChain USD         0.104729  -0.020865  -16.61%   \n",
       "19  THETA-USD            THETA USD           6.6080    -1.2119  -15.50%   \n",
       "20    EOS-USD              EOS USD           5.9249    -1.3248  -18.27%   \n",
       "21    TRX-USD             TRON USD         0.070916  -0.009386  -11.69%   \n",
       "22    FIL-USD  FilecoinFutures USD            65.35      -6.53   -9.08%   \n",
       "23    XMR-USD           Monero USD           253.03      -2.74   -1.07%   \n",
       "24   AAVE-USD             Aave USD           309.29     -71.84  -18.85%   \n",
       "\n",
       "   Market Cap Volume in Currency (Since 0:00 UTC) Volume in Currency (24Hr)  \\\n",
       "0    655.421B                             52.872B                   52.872B   \n",
       "1    274.397B                             37.928B                   37.928B   \n",
       "2     61.167B                             111.36B                   111.36B   \n",
       "3     49.164B                              4.263B                    4.263B   \n",
       "4       46.9B                              5.185B                    5.185B   \n",
       "5     40.066B                              5.914B                    5.914B   \n",
       "6      39.62B                              3.238B                    3.238B   \n",
       "7     22.141B                              2.597B                    2.597B   \n",
       "8     19.673B                              4.472B                    4.472B   \n",
       "9      14.31B                              1.056B                    1.056B   \n",
       "10    12.663B                              4.304B                    4.304B   \n",
       "11    11.796B                              3.067B                    3.067B   \n",
       "12    11.489B                              4.698B                    4.698B   \n",
       "13    11.002B                              4.973B                    4.973B   \n",
       "14    10.093B                             27.128M                   27.128M   \n",
       "15     9.031B                               1.55B                     1.55B   \n",
       "16      7.74B                            595.554M                  595.554M   \n",
       "17     7.715B                              6.963B                    6.963B   \n",
       "18     6.736B                              1.208B                    1.208B   \n",
       "19     6.608B                            699.485M                  699.485M   \n",
       "20     5.651B                              4.999B                    4.999B   \n",
       "21     5.082B                              1.911B                    1.911B   \n",
       "22     4.838B                            879.382M                  879.382M   \n",
       "23     4.534B                            447.811M                  447.811M   \n",
       "24     3.953B                             665.22M                   665.22M   \n",
       "\n",
       "   Total Volume All Currencies (24Hr) Circulating Supply 52 Week Range  \\\n",
       "0                             52.872B            18.721M                 \n",
       "1                             37.928B           116.063M                 \n",
       "2                             111.36B            61.126B                 \n",
       "3                              4.263B           153.433M                 \n",
       "4                              5.185B            31.948B                 \n",
       "5                              5.914B            46.144B                 \n",
       "6                              3.238B            129.79B                 \n",
       "7                              2.597B            22.131B                 \n",
       "8                              4.472B           942.665M                 \n",
       "9                              1.056B           565.685M                 \n",
       "10                             4.304B            18.749M                 \n",
       "11                             3.067B            429.51M                 \n",
       "12                             4.698B            66.752M                 \n",
       "13                             4.973B             6.212B                 \n",
       "14                            27.128M           173.411B                 \n",
       "15                              1.55B            23.114B                 \n",
       "16                           595.554M           272.637M                 \n",
       "17                             6.963B           116.313M                 \n",
       "18                             1.208B            64.316B                 \n",
       "19                           699.485M                 1B                 \n",
       "20                             4.999B            953.77M                 \n",
       "21                             1.911B             71.66B                 \n",
       "22                           879.382M            74.034M                 \n",
       "23                           447.811M             17.92M                 \n",
       "24                            665.22M            12.781M                 \n",
       "\n",
       "   1 Day Chart  \n",
       "0               \n",
       "1               \n",
       "2               \n",
       "3               \n",
       "4               \n",
       "5               \n",
       "6               \n",
       "7               \n",
       "8               \n",
       "9               \n",
       "10              \n",
       "11              \n",
       "12              \n",
       "13              \n",
       "14              \n",
       "15              \n",
       "16              \n",
       "17              \n",
       "18              \n",
       "19              \n",
       "20              \n",
       "21              \n",
       "22              \n",
       "23              \n",
       "24              "
      ],
      "text/html": "<div>\n<style scoped>\n    .dataframe tbody tr th:only-of-type {\n        vertical-align: middle;\n    }\n\n    .dataframe tbody tr th {\n        vertical-align: top;\n    }\n\n    .dataframe thead th {\n        text-align: right;\n    }\n</style>\n<table border=\"1\" class=\"dataframe\">\n  <thead>\n    <tr style=\"text-align: right;\">\n      <th></th>\n      <th>Symbol</th>\n      <th>Name</th>\n      <th>Price (Intraday)</th>\n      <th>Change</th>\n      <th>% Change</th>\n      <th>Market Cap</th>\n      <th>Volume in Currency (Since 0:00 UTC)</th>\n      <th>Volume in Currency (24Hr)</th>\n      <th>Total Volume All Currencies (24Hr)</th>\n      <th>Circulating Supply</th>\n      <th>52 Week Range</th>\n      <th>1 Day Chart</th>\n    </tr>\n  </thead>\n  <tbody>\n    <tr>\n      <th>0</th>\n      <td>BTC-USD</td>\n      <td>Bitcoin USD</td>\n      <td>35,010.66</td>\n      <td>-3,929.77</td>\n      <td>-10.09%</td>\n      <td>655.421B</td>\n      <td>52.872B</td>\n      <td>52.872B</td>\n      <td>52.872B</td>\n      <td>18.721M</td>\n      <td></td>\n      <td></td>\n    </tr>\n    <tr>\n      <th>1</th>\n      <td>ETH-USD</td>\n      <td>Ethereum USD</td>\n      <td>2,364.21</td>\n      <td>-410.67</td>\n      <td>-14.80%</td>\n      <td>274.397B</td>\n      <td>37.928B</td>\n      <td>37.928B</td>\n      <td>37.928B</td>\n      <td>116.063M</td>\n      <td></td>\n      <td></td>\n    </tr>\n    <tr>\n      <th>2</th>\n      <td>USDT-USD</td>\n      <td>Tether USD</td>\n      <td>1.0007</td>\n      <td>-0.0004</td>\n      <td>-0.04%</td>\n      <td>61.167B</td>\n      <td>111.36B</td>\n      <td>111.36B</td>\n      <td>111.36B</td>\n      <td>61.126B</td>\n      <td></td>\n      <td></td>\n    </tr>\n    <tr>\n      <th>3</th>\n      <td>BNB-USD</td>\n      <td>BinanceCoin USD</td>\n      <td>320.43</td>\n      <td>-53.03</td>\n      <td>-14.20%</td>\n      <td>49.164B</td>\n      <td>4.263B</td>\n      <td>4.263B</td>\n      <td>4.263B</td>\n      <td>153.433M</td>\n      <td></td>\n      <td></td>\n    </tr>\n    <tr>\n      <th>4</th>\n      <td>ADA-USD</td>\n      <td>Cardano USD</td>\n      <td>1.4680</td>\n      <td>-0.2168</td>\n      <td>-12.87%</td>\n      <td>46.9B</td>\n      <td>5.185B</td>\n      <td>5.185B</td>\n      <td>5.185B</td>\n      <td>31.948B</td>\n      <td></td>\n      <td></td>\n    </tr>\n    <tr>\n      <th>5</th>\n      <td>XRP-USD</td>\n      <td>XRP USD</td>\n      <td>0.868295</td>\n      <td>-0.119559</td>\n      <td>-12.10%</td>\n      <td>40.066B</td>\n      <td>5.914B</td>\n      <td>5.914B</td>\n      <td>5.914B</td>\n      <td>46.144B</td>\n      <td></td>\n      <td></td>\n    </tr>\n    <tr>\n      <th>6</th>\n      <td>DOGE-USD</td>\n      <td>Dogecoin USD</td>\n      <td>0.305261</td>\n      <td>-0.032821</td>\n      <td>-9.71%</td>\n      <td>39.62B</td>\n      <td>3.238B</td>\n      <td>3.238B</td>\n      <td>3.238B</td>\n      <td>129.79B</td>\n      <td></td>\n      <td></td>\n    </tr>\n    <tr>\n      <th>7</th>\n      <td>USDC-USD</td>\n      <td>USDCoin USD</td>\n      <td>1.0005</td>\n      <td>+0.0002</td>\n      <td>+0.02%</td>\n      <td>22.141B</td>\n      <td>2.597B</td>\n      <td>2.597B</td>\n      <td>2.597B</td>\n      <td>22.131B</td>\n      <td></td>\n      <td></td>\n    </tr>\n    <tr>\n      <th>8</th>\n      <td>DOT1-USD</td>\n      <td>Polkadot USD</td>\n      <td>20.87</td>\n      <td>-3.41</td>\n      <td>-14.05%</td>\n      <td>19.673B</td>\n      <td>4.472B</td>\n      <td>4.472B</td>\n      <td>4.472B</td>\n      <td>942.665M</td>\n      <td></td>\n      <td></td>\n    </tr>\n    <tr>\n      <th>9</th>\n      <td>UNI3-USD</td>\n      <td>Uniswap USD</td>\n      <td>25.30</td>\n      <td>-3.63</td>\n      <td>-12.54%</td>\n      <td>14.31B</td>\n      <td>1.056B</td>\n      <td>1.056B</td>\n      <td>1.056B</td>\n      <td>565.685M</td>\n      <td></td>\n      <td></td>\n    </tr>\n    <tr>\n      <th>10</th>\n      <td>BCH-USD</td>\n      <td>BitcoinCash USD</td>\n      <td>675.41</td>\n      <td>-96.22</td>\n      <td>-12.47%</td>\n      <td>12.663B</td>\n      <td>4.304B</td>\n      <td>4.304B</td>\n      <td>4.304B</td>\n      <td>18.749M</td>\n      <td></td>\n      <td></td>\n    </tr>\n    <tr>\n      <th>11</th>\n      <td>LINK-USD</td>\n      <td>Chainlink USD</td>\n      <td>27.46</td>\n      <td>-4.83</td>\n      <td>-14.95%</td>\n      <td>11.796B</td>\n      <td>3.067B</td>\n      <td>3.067B</td>\n      <td>3.067B</td>\n      <td>429.51M</td>\n      <td></td>\n      <td></td>\n    </tr>\n    <tr>\n      <th>12</th>\n      <td>LTC-USD</td>\n      <td>Litecoin USD</td>\n      <td>172.12</td>\n      <td>-24.51</td>\n      <td>-12.47%</td>\n      <td>11.489B</td>\n      <td>4.698B</td>\n      <td>4.698B</td>\n      <td>4.698B</td>\n      <td>66.752M</td>\n      <td></td>\n      <td></td>\n    </tr>\n    <tr>\n      <th>13</th>\n      <td>MATIC-USD</td>\n      <td>MaticNetwork USD</td>\n      <td>1.7712</td>\n      <td>-0.3143</td>\n      <td>-15.07%</td>\n      <td>11.002B</td>\n      <td>4.973B</td>\n      <td>4.973B</td>\n      <td>4.973B</td>\n      <td>6.212B</td>\n      <td></td>\n      <td></td>\n    </tr>\n    <tr>\n      <th>14</th>\n      <td>HEX-USD</td>\n      <td>HEX USD</td>\n      <td>0.058201</td>\n      <td>-0.001578</td>\n      <td>-2.64%</td>\n      <td>10.093B</td>\n      <td>27.128M</td>\n      <td>27.128M</td>\n      <td>27.128M</td>\n      <td>173.411B</td>\n      <td></td>\n      <td></td>\n    </tr>\n    <tr>\n      <th>15</th>\n      <td>XLM-USD</td>\n      <td>Stellar USD</td>\n      <td>0.390709</td>\n      <td>-0.037258</td>\n      <td>-8.71%</td>\n      <td>9.031B</td>\n      <td>1.55B</td>\n      <td>1.55B</td>\n      <td>1.55B</td>\n      <td>23.114B</td>\n      <td></td>\n      <td></td>\n    </tr>\n    <tr>\n      <th>16</th>\n      <td>SOL1-USD</td>\n      <td>Solana USD</td>\n      <td>28.39</td>\n      <td>-6.59</td>\n      <td>-18.84%</td>\n      <td>7.74B</td>\n      <td>595.554M</td>\n      <td>595.554M</td>\n      <td>595.554M</td>\n      <td>272.637M</td>\n      <td></td>\n      <td></td>\n    </tr>\n    <tr>\n      <th>17</th>\n      <td>ETC-USD</td>\n      <td>EthereumClassic USD</td>\n      <td>66.33</td>\n      <td>-9.04</td>\n      <td>-11.99%</td>\n      <td>7.715B</td>\n      <td>6.963B</td>\n      <td>6.963B</td>\n      <td>6.963B</td>\n      <td>116.313M</td>\n      <td></td>\n      <td></td>\n    </tr>\n    <tr>\n      <th>18</th>\n      <td>VET-USD</td>\n      <td>VeChain USD</td>\n      <td>0.104729</td>\n      <td>-0.020865</td>\n      <td>-16.61%</td>\n      <td>6.736B</td>\n      <td>1.208B</td>\n      <td>1.208B</td>\n      <td>1.208B</td>\n      <td>64.316B</td>\n      <td></td>\n      <td></td>\n    </tr>\n    <tr>\n      <th>19</th>\n      <td>THETA-USD</td>\n      <td>THETA USD</td>\n      <td>6.6080</td>\n      <td>-1.2119</td>\n      <td>-15.50%</td>\n      <td>6.608B</td>\n      <td>699.485M</td>\n      <td>699.485M</td>\n      <td>699.485M</td>\n      <td>1B</td>\n      <td></td>\n      <td></td>\n    </tr>\n    <tr>\n      <th>20</th>\n      <td>EOS-USD</td>\n      <td>EOS USD</td>\n      <td>5.9249</td>\n      <td>-1.3248</td>\n      <td>-18.27%</td>\n      <td>5.651B</td>\n      <td>4.999B</td>\n      <td>4.999B</td>\n      <td>4.999B</td>\n      <td>953.77M</td>\n      <td></td>\n      <td></td>\n    </tr>\n    <tr>\n      <th>21</th>\n      <td>TRX-USD</td>\n      <td>TRON USD</td>\n      <td>0.070916</td>\n      <td>-0.009386</td>\n      <td>-11.69%</td>\n      <td>5.082B</td>\n      <td>1.911B</td>\n      <td>1.911B</td>\n      <td>1.911B</td>\n      <td>71.66B</td>\n      <td></td>\n      <td></td>\n    </tr>\n    <tr>\n      <th>22</th>\n      <td>FIL-USD</td>\n      <td>FilecoinFutures USD</td>\n      <td>65.35</td>\n      <td>-6.53</td>\n      <td>-9.08%</td>\n      <td>4.838B</td>\n      <td>879.382M</td>\n      <td>879.382M</td>\n      <td>879.382M</td>\n      <td>74.034M</td>\n      <td></td>\n      <td></td>\n    </tr>\n    <tr>\n      <th>23</th>\n      <td>XMR-USD</td>\n      <td>Monero USD</td>\n      <td>253.03</td>\n      <td>-2.74</td>\n      <td>-1.07%</td>\n      <td>4.534B</td>\n      <td>447.811M</td>\n      <td>447.811M</td>\n      <td>447.811M</td>\n      <td>17.92M</td>\n      <td></td>\n      <td></td>\n    </tr>\n    <tr>\n      <th>24</th>\n      <td>AAVE-USD</td>\n      <td>Aave USD</td>\n      <td>309.29</td>\n      <td>-71.84</td>\n      <td>-18.85%</td>\n      <td>3.953B</td>\n      <td>665.22M</td>\n      <td>665.22M</td>\n      <td>665.22M</td>\n      <td>12.781M</td>\n      <td></td>\n      <td></td>\n    </tr>\n  </tbody>\n</table>\n</div>"
     },
     "metadata": {},
     "execution_count": 6
    }
   ],
   "source": [
    "pd.DataFrame(raw_data)"
   ]
  },
  {
   "cell_type": "code",
   "execution_count": 7,
   "metadata": {},
   "outputs": [
    {
     "output_type": "stream",
     "name": "stdout",
     "text": [
      "       Symbol                 Name Price (Intraday)     Change % Change  \\\n0     BTC-USD          Bitcoin USD        35,010.66  -3,929.77  -10.09%   \n1     ETH-USD         Ethereum USD         2,364.21    -410.67  -14.80%   \n2    USDT-USD           Tether USD           1.0007    -0.0004   -0.04%   \n3     BNB-USD      BinanceCoin USD           320.43     -53.03  -14.20%   \n4     ADA-USD          Cardano USD           1.4680    -0.2168  -12.87%   \n5     XRP-USD              XRP USD         0.868295  -0.119559  -12.10%   \n6    DOGE-USD         Dogecoin USD         0.305261  -0.032821   -9.71%   \n7    USDC-USD          USDCoin USD           1.0005    +0.0002   +0.02%   \n8    DOT1-USD         Polkadot USD            20.87      -3.41  -14.05%   \n9    UNI3-USD          Uniswap USD            25.30      -3.63  -12.54%   \n10    BCH-USD      BitcoinCash USD           675.41     -96.22  -12.47%   \n11   LINK-USD        Chainlink USD            27.46      -4.83  -14.95%   \n12    LTC-USD         Litecoin USD           172.12     -24.51  -12.47%   \n13  MATIC-USD     MaticNetwork USD           1.7712    -0.3143  -15.07%   \n14    HEX-USD              HEX USD         0.058201  -0.001578   -2.64%   \n15    XLM-USD          Stellar USD         0.390709  -0.037258   -8.71%   \n16   SOL1-USD           Solana USD            28.39      -6.59  -18.84%   \n17    ETC-USD  EthereumClassic USD            66.33      -9.04  -11.99%   \n18    VET-USD          VeChain USD         0.104729  -0.020865  -16.61%   \n19  THETA-USD            THETA USD           6.6080    -1.2119  -15.50%   \n20    EOS-USD              EOS USD           5.9249    -1.3248  -18.27%   \n21    TRX-USD             TRON USD         0.070916  -0.009386  -11.69%   \n22    FIL-USD  FilecoinFutures USD            65.35      -6.53   -9.08%   \n23    XMR-USD           Monero USD           253.03      -2.74   -1.07%   \n24   AAVE-USD             Aave USD           309.29     -71.84  -18.85%   \n\n   Market Cap Volume in Currency (Since 0:00 UTC) Volume in Currency (24Hr)  \\\n0    655.421B                             52.872B                   52.872B   \n1    274.397B                             37.928B                   37.928B   \n2     61.167B                             111.36B                   111.36B   \n3     49.164B                              4.263B                    4.263B   \n4       46.9B                              5.185B                    5.185B   \n5     40.066B                              5.914B                    5.914B   \n6      39.62B                              3.238B                    3.238B   \n7     22.141B                              2.597B                    2.597B   \n8     19.673B                              4.472B                    4.472B   \n9      14.31B                              1.056B                    1.056B   \n10    12.663B                              4.304B                    4.304B   \n11    11.796B                              3.067B                    3.067B   \n12    11.489B                              4.698B                    4.698B   \n13    11.002B                              4.973B                    4.973B   \n14    10.093B                             27.128M                   27.128M   \n15     9.031B                               1.55B                     1.55B   \n16      7.74B                            595.554M                  595.554M   \n17     7.715B                              6.963B                    6.963B   \n18     6.736B                              1.208B                    1.208B   \n19     6.608B                            699.485M                  699.485M   \n20     5.651B                              4.999B                    4.999B   \n21     5.082B                              1.911B                    1.911B   \n22     4.838B                            879.382M                  879.382M   \n23     4.534B                            447.811M                  447.811M   \n24     3.953B                             665.22M                   665.22M   \n\n   Total Volume All Currencies (24Hr) Circulating Supply 52 Week Range  \\\n0                             52.872B            18.721M                 \n1                             37.928B           116.063M                 \n2                             111.36B            61.126B                 \n3                              4.263B           153.433M                 \n4                              5.185B            31.948B                 \n5                              5.914B            46.144B                 \n6                              3.238B            129.79B                 \n7                              2.597B            22.131B                 \n8                              4.472B           942.665M                 \n9                              1.056B           565.685M                 \n10                             4.304B            18.749M                 \n11                             3.067B            429.51M                 \n12                             4.698B            66.752M                 \n13                             4.973B             6.212B                 \n14                            27.128M           173.411B                 \n15                              1.55B            23.114B                 \n16                           595.554M           272.637M                 \n17                             6.963B           116.313M                 \n18                             1.208B            64.316B                 \n19                           699.485M                 1B                 \n20                             4.999B            953.77M                 \n21                             1.911B             71.66B                 \n22                           879.382M            74.034M                 \n23                           447.811M             17.92M                 \n24                            665.22M            12.781M                 \n\n   1 Day Chart  \n0               \n1               \n2               \n3               \n4               \n5               \n6               \n7               \n8               \n9               \n10              \n11              \n12              \n13              \n14              \n15              \n16              \n17              \n18              \n19              \n20              \n21              \n22              \n23              \n24              \n"
     ]
    }
   ],
   "source": [
    "def scrape_table(url):\n",
    "    soup = BeautifulSoup(requests.get(url).text)\n",
    "    headers = [header.text for listing in soup.find_all('thead') for header in listing.find_all('th')]\n",
    "    raw_data = {header: [] for header in headers}\n",
    "\n",
    "    for rows in soup.find_all('tbody'):\n",
    "        for row in rows.find_all('tr'):\n",
    "            for idx, cell in enumerate(row.find_all('td')):\n",
    "                raw_data[headers[idx]].append(cell.text)\n",
    "    return pd.DataFrame(raw_data)\n",
    "\n",
    "df = scrape_table(\"https://finance.yahoo.com/cryptocurrencies\")\n",
    "print(df)"
   ]
  },
  {
   "cell_type": "code",
   "execution_count": 8,
   "metadata": {},
   "outputs": [
    {
     "output_type": "execute_result",
     "data": {
      "text/plain": [
       "   Symbol                                   Name Price (Intraday)   Change  \\\n",
       "0    LBSR    Liberty Star Uranium & Metals Corp.           1.5500  +0.6300   \n",
       "1   AKO-B              Embotelladora Andina S.A.            14.70    +2.90   \n",
       "2     WBT                          Welbilt, Inc.            24.71    +4.79   \n",
       "3    CRON                      Cronos Group Inc.             9.01    +1.19   \n",
       "4     DFH              Dream Finders Homes, Inc.            31.77    +3.70   \n",
       "5   XYIGF           Xinyi Glass Holdings Limited           3.9690  +0.4090   \n",
       "6   GCPEF       GCL-Poly Energy Holdings Limited           0.1950  +0.0200   \n",
       "7    VEEV                     Veeva Systems Inc.           291.34   +26.69   \n",
       "8   HBRIY                     Harbour Energy plc           0.3435  +0.0291   \n",
       "9     IFS      Intercorp Financial Services Inc.            28.14    +2.27   \n",
       "10    SVC               Service Properties Trust            12.56    +0.97   \n",
       "11   IMAB                                  I-Mab            81.07    +5.89   \n",
       "12   FRHC                  Freedom Holding Corp.            50.82    +3.57   \n",
       "13   OLLI  Ollie's Bargain Outlet Holdings, Inc.            86.44    +6.05   \n",
       "14  UNLRF              PT Unilever Indonesia Tbk           0.3976  +0.0276   \n",
       "15   OTLY                         Oatly Group AB            23.71    +1.59   \n",
       "16   BCRX         BioCryst Pharmaceuticals, Inc.            15.77    +1.02   \n",
       "17    API                            Agora, Inc.            44.69    +2.79   \n",
       "18    APP                   AppLovin Corporation            74.31    +4.63   \n",
       "19    PBR   Petróleo Brasileiro S.A. - Petrobras            10.21    +0.63   \n",
       "20  SKLKY                  Shinsei Bank, Limited           3.2100  +0.1900   \n",
       "21   AFRM                  Affirm Holdings, Inc.            60.81    +3.52   \n",
       "22  XISHY           Xinyi Solar Holdings Limited            36.74    +2.12   \n",
       "23   HIMX               Himax Technologies, Inc.            13.11    +0.74   \n",
       "24    MAX                       MediaAlpha, Inc.            42.32    +2.34   \n",
       "\n",
       "   % Change   Volume Avg Vol (3 month) Market Cap PE Ratio (TTM) 52 Week Range  \n",
       "0   +68.48%  328,928            21,373    15.297M            N/A                \n",
       "1   +24.58%  131,509            17,961     2.319B          15.41                \n",
       "2   +24.05%  18.671M            3.411M     3.507B         224.64                \n",
       "3   +15.22%  14.931M            2.773M     3.325B            N/A                \n",
       "4   +13.18%  222,539           140,520     2.939B            N/A                \n",
       "5   +11.49%  183,677            10,741    18.131B          19.36                \n",
       "6   +11.43%   53,874           138,171     7.118B            N/A                \n",
       "7   +10.09%     2.5M           905,753    44.517B         123.45                \n",
       "8    +9.27%  123,579            51,666     6.107B            N/A                \n",
       "9    +8.77%  114,109            60,414     3.313B            N/A                \n",
       "10   +8.37%   5.682M            1.014M      2.07B            N/A                \n",
       "11   +7.83%  966,431           533,296      5.87B            N/A                \n",
       "12   +7.56%  725,778           660,790      2.97B          31.98                \n",
       "13   +7.53%   3.561M           970,773     5.664B          23.49                \n",
       "14   +7.46%   18,000            11,495    16.678B           4.79                \n",
       "15   +7.19%   3.239M           13.438M     14.04B            N/A                \n",
       "16   +6.92%   7.403M            5.101M     2.802B            N/A                \n",
       "17   +6.66%   1.389M            1.239M     5.178B            N/A                \n",
       "18   +6.64%  864,492            1.625M    27.099B            N/A                \n",
       "19   +6.58%  53.797M           34.784M    66.951B           6.23                \n",
       "20   +6.29%   24,596             1,555     3.591B           8.67                \n",
       "21   +6.14%   3.304M            2.799M     16.12B            N/A                \n",
       "22   +6.13%   33,139            12,413    16.102B            N/A                \n",
       "23   +5.98%   6.964M            4.131M     2.282B          20.52                \n",
       "24   +5.85%  310,937           383,353     2.527B            N/A                "
      ],
      "text/html": "<div>\n<style scoped>\n    .dataframe tbody tr th:only-of-type {\n        vertical-align: middle;\n    }\n\n    .dataframe tbody tr th {\n        vertical-align: top;\n    }\n\n    .dataframe thead th {\n        text-align: right;\n    }\n</style>\n<table border=\"1\" class=\"dataframe\">\n  <thead>\n    <tr style=\"text-align: right;\">\n      <th></th>\n      <th>Symbol</th>\n      <th>Name</th>\n      <th>Price (Intraday)</th>\n      <th>Change</th>\n      <th>% Change</th>\n      <th>Volume</th>\n      <th>Avg Vol (3 month)</th>\n      <th>Market Cap</th>\n      <th>PE Ratio (TTM)</th>\n      <th>52 Week Range</th>\n    </tr>\n  </thead>\n  <tbody>\n    <tr>\n      <th>0</th>\n      <td>LBSR</td>\n      <td>Liberty Star Uranium &amp; Metals Corp.</td>\n      <td>1.5500</td>\n      <td>+0.6300</td>\n      <td>+68.48%</td>\n      <td>328,928</td>\n      <td>21,373</td>\n      <td>15.297M</td>\n      <td>N/A</td>\n      <td></td>\n    </tr>\n    <tr>\n      <th>1</th>\n      <td>AKO-B</td>\n      <td>Embotelladora Andina S.A.</td>\n      <td>14.70</td>\n      <td>+2.90</td>\n      <td>+24.58%</td>\n      <td>131,509</td>\n      <td>17,961</td>\n      <td>2.319B</td>\n      <td>15.41</td>\n      <td></td>\n    </tr>\n    <tr>\n      <th>2</th>\n      <td>WBT</td>\n      <td>Welbilt, Inc.</td>\n      <td>24.71</td>\n      <td>+4.79</td>\n      <td>+24.05%</td>\n      <td>18.671M</td>\n      <td>3.411M</td>\n      <td>3.507B</td>\n      <td>224.64</td>\n      <td></td>\n    </tr>\n    <tr>\n      <th>3</th>\n      <td>CRON</td>\n      <td>Cronos Group Inc.</td>\n      <td>9.01</td>\n      <td>+1.19</td>\n      <td>+15.22%</td>\n      <td>14.931M</td>\n      <td>2.773M</td>\n      <td>3.325B</td>\n      <td>N/A</td>\n      <td></td>\n    </tr>\n    <tr>\n      <th>4</th>\n      <td>DFH</td>\n      <td>Dream Finders Homes, Inc.</td>\n      <td>31.77</td>\n      <td>+3.70</td>\n      <td>+13.18%</td>\n      <td>222,539</td>\n      <td>140,520</td>\n      <td>2.939B</td>\n      <td>N/A</td>\n      <td></td>\n    </tr>\n    <tr>\n      <th>5</th>\n      <td>XYIGF</td>\n      <td>Xinyi Glass Holdings Limited</td>\n      <td>3.9690</td>\n      <td>+0.4090</td>\n      <td>+11.49%</td>\n      <td>183,677</td>\n      <td>10,741</td>\n      <td>18.131B</td>\n      <td>19.36</td>\n      <td></td>\n    </tr>\n    <tr>\n      <th>6</th>\n      <td>GCPEF</td>\n      <td>GCL-Poly Energy Holdings Limited</td>\n      <td>0.1950</td>\n      <td>+0.0200</td>\n      <td>+11.43%</td>\n      <td>53,874</td>\n      <td>138,171</td>\n      <td>7.118B</td>\n      <td>N/A</td>\n      <td></td>\n    </tr>\n    <tr>\n      <th>7</th>\n      <td>VEEV</td>\n      <td>Veeva Systems Inc.</td>\n      <td>291.34</td>\n      <td>+26.69</td>\n      <td>+10.09%</td>\n      <td>2.5M</td>\n      <td>905,753</td>\n      <td>44.517B</td>\n      <td>123.45</td>\n      <td></td>\n    </tr>\n    <tr>\n      <th>8</th>\n      <td>HBRIY</td>\n      <td>Harbour Energy plc</td>\n      <td>0.3435</td>\n      <td>+0.0291</td>\n      <td>+9.27%</td>\n      <td>123,579</td>\n      <td>51,666</td>\n      <td>6.107B</td>\n      <td>N/A</td>\n      <td></td>\n    </tr>\n    <tr>\n      <th>9</th>\n      <td>IFS</td>\n      <td>Intercorp Financial Services Inc.</td>\n      <td>28.14</td>\n      <td>+2.27</td>\n      <td>+8.77%</td>\n      <td>114,109</td>\n      <td>60,414</td>\n      <td>3.313B</td>\n      <td>N/A</td>\n      <td></td>\n    </tr>\n    <tr>\n      <th>10</th>\n      <td>SVC</td>\n      <td>Service Properties Trust</td>\n      <td>12.56</td>\n      <td>+0.97</td>\n      <td>+8.37%</td>\n      <td>5.682M</td>\n      <td>1.014M</td>\n      <td>2.07B</td>\n      <td>N/A</td>\n      <td></td>\n    </tr>\n    <tr>\n      <th>11</th>\n      <td>IMAB</td>\n      <td>I-Mab</td>\n      <td>81.07</td>\n      <td>+5.89</td>\n      <td>+7.83%</td>\n      <td>966,431</td>\n      <td>533,296</td>\n      <td>5.87B</td>\n      <td>N/A</td>\n      <td></td>\n    </tr>\n    <tr>\n      <th>12</th>\n      <td>FRHC</td>\n      <td>Freedom Holding Corp.</td>\n      <td>50.82</td>\n      <td>+3.57</td>\n      <td>+7.56%</td>\n      <td>725,778</td>\n      <td>660,790</td>\n      <td>2.97B</td>\n      <td>31.98</td>\n      <td></td>\n    </tr>\n    <tr>\n      <th>13</th>\n      <td>OLLI</td>\n      <td>Ollie's Bargain Outlet Holdings, Inc.</td>\n      <td>86.44</td>\n      <td>+6.05</td>\n      <td>+7.53%</td>\n      <td>3.561M</td>\n      <td>970,773</td>\n      <td>5.664B</td>\n      <td>23.49</td>\n      <td></td>\n    </tr>\n    <tr>\n      <th>14</th>\n      <td>UNLRF</td>\n      <td>PT Unilever Indonesia Tbk</td>\n      <td>0.3976</td>\n      <td>+0.0276</td>\n      <td>+7.46%</td>\n      <td>18,000</td>\n      <td>11,495</td>\n      <td>16.678B</td>\n      <td>4.79</td>\n      <td></td>\n    </tr>\n    <tr>\n      <th>15</th>\n      <td>OTLY</td>\n      <td>Oatly Group AB</td>\n      <td>23.71</td>\n      <td>+1.59</td>\n      <td>+7.19%</td>\n      <td>3.239M</td>\n      <td>13.438M</td>\n      <td>14.04B</td>\n      <td>N/A</td>\n      <td></td>\n    </tr>\n    <tr>\n      <th>16</th>\n      <td>BCRX</td>\n      <td>BioCryst Pharmaceuticals, Inc.</td>\n      <td>15.77</td>\n      <td>+1.02</td>\n      <td>+6.92%</td>\n      <td>7.403M</td>\n      <td>5.101M</td>\n      <td>2.802B</td>\n      <td>N/A</td>\n      <td></td>\n    </tr>\n    <tr>\n      <th>17</th>\n      <td>API</td>\n      <td>Agora, Inc.</td>\n      <td>44.69</td>\n      <td>+2.79</td>\n      <td>+6.66%</td>\n      <td>1.389M</td>\n      <td>1.239M</td>\n      <td>5.178B</td>\n      <td>N/A</td>\n      <td></td>\n    </tr>\n    <tr>\n      <th>18</th>\n      <td>APP</td>\n      <td>AppLovin Corporation</td>\n      <td>74.31</td>\n      <td>+4.63</td>\n      <td>+6.64%</td>\n      <td>864,492</td>\n      <td>1.625M</td>\n      <td>27.099B</td>\n      <td>N/A</td>\n      <td></td>\n    </tr>\n    <tr>\n      <th>19</th>\n      <td>PBR</td>\n      <td>Petróleo Brasileiro S.A. - Petrobras</td>\n      <td>10.21</td>\n      <td>+0.63</td>\n      <td>+6.58%</td>\n      <td>53.797M</td>\n      <td>34.784M</td>\n      <td>66.951B</td>\n      <td>6.23</td>\n      <td></td>\n    </tr>\n    <tr>\n      <th>20</th>\n      <td>SKLKY</td>\n      <td>Shinsei Bank, Limited</td>\n      <td>3.2100</td>\n      <td>+0.1900</td>\n      <td>+6.29%</td>\n      <td>24,596</td>\n      <td>1,555</td>\n      <td>3.591B</td>\n      <td>8.67</td>\n      <td></td>\n    </tr>\n    <tr>\n      <th>21</th>\n      <td>AFRM</td>\n      <td>Affirm Holdings, Inc.</td>\n      <td>60.81</td>\n      <td>+3.52</td>\n      <td>+6.14%</td>\n      <td>3.304M</td>\n      <td>2.799M</td>\n      <td>16.12B</td>\n      <td>N/A</td>\n      <td></td>\n    </tr>\n    <tr>\n      <th>22</th>\n      <td>XISHY</td>\n      <td>Xinyi Solar Holdings Limited</td>\n      <td>36.74</td>\n      <td>+2.12</td>\n      <td>+6.13%</td>\n      <td>33,139</td>\n      <td>12,413</td>\n      <td>16.102B</td>\n      <td>N/A</td>\n      <td></td>\n    </tr>\n    <tr>\n      <th>23</th>\n      <td>HIMX</td>\n      <td>Himax Technologies, Inc.</td>\n      <td>13.11</td>\n      <td>+0.74</td>\n      <td>+5.98%</td>\n      <td>6.964M</td>\n      <td>4.131M</td>\n      <td>2.282B</td>\n      <td>20.52</td>\n      <td></td>\n    </tr>\n    <tr>\n      <th>24</th>\n      <td>MAX</td>\n      <td>MediaAlpha, Inc.</td>\n      <td>42.32</td>\n      <td>+2.34</td>\n      <td>+5.85%</td>\n      <td>310,937</td>\n      <td>383,353</td>\n      <td>2.527B</td>\n      <td>N/A</td>\n      <td></td>\n    </tr>\n  </tbody>\n</table>\n</div>"
     },
     "metadata": {},
     "execution_count": 8
    }
   ],
   "source": [
    "gainers = scrape_table(\"https://finance.yahoo.com/gainers\")\n",
    "gainers\n"
   ]
  },
  {
   "cell_type": "code",
   "execution_count": 9,
   "metadata": {},
   "outputs": [
    {
     "output_type": "execute_result",
     "data": {
      "text/plain": [
       "   Symbol                                       Name Price (Intraday)  \\\n",
       "0   NOKPF        Nok Airlines Public Company Limited           0.1975   \n",
       "1     GME                             GameStop Corp.           222.00   \n",
       "2    UPST                     Upstart Holdings, Inc.           148.22   \n",
       "3    OCFT  OneConnect Financial Technology Co., Ltd.            14.46   \n",
       "4      YY                                  JOYY Inc.            76.95   \n",
       "5     HPQ                                    HP Inc.            29.23   \n",
       "6   VYGVF                       Voyager Digital Ltd.            19.49   \n",
       "7    FUBO                                fuboTV Inc.            23.74   \n",
       "8    TDUP                               ThredUp Inc.            23.59   \n",
       "9     BNR               Burning Rock Biotech Limited            27.07   \n",
       "10   AMRS                               Amyris, Inc.            14.23   \n",
       "11     SI             Silvergate Capital Corporation           111.40   \n",
       "12    BIG                             Big Lots, Inc.            60.94   \n",
       "13  TBVPF       Thai Beverage Public Company Limited           0.5000   \n",
       "14    CNK                    Cinemark Holdings, Inc.            22.66   \n",
       "15   FINV                          FinVolution Group             7.52   \n",
       "16  RNECY            Renesas Electronics Corporation             5.13   \n",
       "17   SAML                      Samsara Luggage, Inc.           2.8400   \n",
       "18   QFIN                         360 DigiTech, Inc.            28.07   \n",
       "19    CVI                           CVR Energy, Inc.            20.75   \n",
       "20   WISH                          ContextLogic Inc.             7.94   \n",
       "21    GPS                              The Gap, Inc.            33.45   \n",
       "22   MSTR                 MicroStrategy Incorporated           470.00   \n",
       "23  WXXWY               WuXi Biologics (Cayman) Inc.            29.80   \n",
       "24    DDD                     3D Systems Corporation            29.41   \n",
       "\n",
       "     Change % Change   Volume Avg Vol (3 month) Market Cap PE Ratio (TTM)  \\\n",
       "0   -1.8025  -90.13%    4.34M            57,788    13.039M            N/A   \n",
       "1    -32.13  -12.64%   11.62M           15.502M    15.711B            N/A   \n",
       "2    -18.61  -11.16%   5.246M            3.444M    11.399B            N/A   \n",
       "3     -1.81  -11.12%   2.302M           732,279     5.639B            N/A   \n",
       "4     -8.45   -9.89%   3.238M            1.192M     6.018B           4.10   \n",
       "5     -2.87   -8.94%  36.838M           10.037M    36.438B          12.43   \n",
       "6     -1.72   -8.13%  655,134           973,011     2.809B            N/A   \n",
       "7     -1.87   -7.30%  16.518M           15.966M     3.335B            N/A   \n",
       "8     -1.74   -6.87%  289,254           821,229     2.222B            N/A   \n",
       "9     -1.84   -6.36%  602,850           427,609      2.83B            N/A   \n",
       "10    -0.85   -5.64%   2.699M            4.627M     4.148B            N/A   \n",
       "11    -6.62   -5.61%  669,136            1.642M     2.933B          65.38   \n",
       "12    -3.60   -5.58%   3.159M           750,958     2.139B           3.78   \n",
       "13  -0.0290   -5.48%   72,137            54,436    12.531B          16.67   \n",
       "14    -1.31   -5.47%   6.081M            3.214M     2.709B            N/A   \n",
       "15    -0.43   -5.41%   1.821M            3.685M     2.131B            N/A   \n",
       "16    -0.29   -5.35%   77,757            66,523    17.732B          41.20   \n",
       "17  -0.1600   -5.33%  157,542            50,289     2.557M            N/A   \n",
       "18    -1.52   -5.14%   3.488M            2.734M     4.278B           7.89   \n",
       "19    -1.12   -5.12%    1.41M           697,023     2.086B            N/A   \n",
       "20    -0.41   -4.91%  20.826M            7.958M     4.915B            N/A   \n",
       "21    -1.70   -4.84%  14.692M            6.625M    12.541B            N/A   \n",
       "22   -23.85   -4.83%  477,451           660,961      4.58B            N/A   \n",
       "23    -1.50   -4.79%   48,586           140,580    62.579B         236.51   \n",
       "24    -1.48   -4.79%   6.573M            5.753M     3.678B            N/A   \n",
       "\n",
       "   52 Week Range  \n",
       "0                 \n",
       "1                 \n",
       "2                 \n",
       "3                 \n",
       "4                 \n",
       "5                 \n",
       "6                 \n",
       "7                 \n",
       "8                 \n",
       "9                 \n",
       "10                \n",
       "11                \n",
       "12                \n",
       "13                \n",
       "14                \n",
       "15                \n",
       "16                \n",
       "17                \n",
       "18                \n",
       "19                \n",
       "20                \n",
       "21                \n",
       "22                \n",
       "23                \n",
       "24                "
      ],
      "text/html": "<div>\n<style scoped>\n    .dataframe tbody tr th:only-of-type {\n        vertical-align: middle;\n    }\n\n    .dataframe tbody tr th {\n        vertical-align: top;\n    }\n\n    .dataframe thead th {\n        text-align: right;\n    }\n</style>\n<table border=\"1\" class=\"dataframe\">\n  <thead>\n    <tr style=\"text-align: right;\">\n      <th></th>\n      <th>Symbol</th>\n      <th>Name</th>\n      <th>Price (Intraday)</th>\n      <th>Change</th>\n      <th>% Change</th>\n      <th>Volume</th>\n      <th>Avg Vol (3 month)</th>\n      <th>Market Cap</th>\n      <th>PE Ratio (TTM)</th>\n      <th>52 Week Range</th>\n    </tr>\n  </thead>\n  <tbody>\n    <tr>\n      <th>0</th>\n      <td>NOKPF</td>\n      <td>Nok Airlines Public Company Limited</td>\n      <td>0.1975</td>\n      <td>-1.8025</td>\n      <td>-90.13%</td>\n      <td>4.34M</td>\n      <td>57,788</td>\n      <td>13.039M</td>\n      <td>N/A</td>\n      <td></td>\n    </tr>\n    <tr>\n      <th>1</th>\n      <td>GME</td>\n      <td>GameStop Corp.</td>\n      <td>222.00</td>\n      <td>-32.13</td>\n      <td>-12.64%</td>\n      <td>11.62M</td>\n      <td>15.502M</td>\n      <td>15.711B</td>\n      <td>N/A</td>\n      <td></td>\n    </tr>\n    <tr>\n      <th>2</th>\n      <td>UPST</td>\n      <td>Upstart Holdings, Inc.</td>\n      <td>148.22</td>\n      <td>-18.61</td>\n      <td>-11.16%</td>\n      <td>5.246M</td>\n      <td>3.444M</td>\n      <td>11.399B</td>\n      <td>N/A</td>\n      <td></td>\n    </tr>\n    <tr>\n      <th>3</th>\n      <td>OCFT</td>\n      <td>OneConnect Financial Technology Co., Ltd.</td>\n      <td>14.46</td>\n      <td>-1.81</td>\n      <td>-11.12%</td>\n      <td>2.302M</td>\n      <td>732,279</td>\n      <td>5.639B</td>\n      <td>N/A</td>\n      <td></td>\n    </tr>\n    <tr>\n      <th>4</th>\n      <td>YY</td>\n      <td>JOYY Inc.</td>\n      <td>76.95</td>\n      <td>-8.45</td>\n      <td>-9.89%</td>\n      <td>3.238M</td>\n      <td>1.192M</td>\n      <td>6.018B</td>\n      <td>4.10</td>\n      <td></td>\n    </tr>\n    <tr>\n      <th>5</th>\n      <td>HPQ</td>\n      <td>HP Inc.</td>\n      <td>29.23</td>\n      <td>-2.87</td>\n      <td>-8.94%</td>\n      <td>36.838M</td>\n      <td>10.037M</td>\n      <td>36.438B</td>\n      <td>12.43</td>\n      <td></td>\n    </tr>\n    <tr>\n      <th>6</th>\n      <td>VYGVF</td>\n      <td>Voyager Digital Ltd.</td>\n      <td>19.49</td>\n      <td>-1.72</td>\n      <td>-8.13%</td>\n      <td>655,134</td>\n      <td>973,011</td>\n      <td>2.809B</td>\n      <td>N/A</td>\n      <td></td>\n    </tr>\n    <tr>\n      <th>7</th>\n      <td>FUBO</td>\n      <td>fuboTV Inc.</td>\n      <td>23.74</td>\n      <td>-1.87</td>\n      <td>-7.30%</td>\n      <td>16.518M</td>\n      <td>15.966M</td>\n      <td>3.335B</td>\n      <td>N/A</td>\n      <td></td>\n    </tr>\n    <tr>\n      <th>8</th>\n      <td>TDUP</td>\n      <td>ThredUp Inc.</td>\n      <td>23.59</td>\n      <td>-1.74</td>\n      <td>-6.87%</td>\n      <td>289,254</td>\n      <td>821,229</td>\n      <td>2.222B</td>\n      <td>N/A</td>\n      <td></td>\n    </tr>\n    <tr>\n      <th>9</th>\n      <td>BNR</td>\n      <td>Burning Rock Biotech Limited</td>\n      <td>27.07</td>\n      <td>-1.84</td>\n      <td>-6.36%</td>\n      <td>602,850</td>\n      <td>427,609</td>\n      <td>2.83B</td>\n      <td>N/A</td>\n      <td></td>\n    </tr>\n    <tr>\n      <th>10</th>\n      <td>AMRS</td>\n      <td>Amyris, Inc.</td>\n      <td>14.23</td>\n      <td>-0.85</td>\n      <td>-5.64%</td>\n      <td>2.699M</td>\n      <td>4.627M</td>\n      <td>4.148B</td>\n      <td>N/A</td>\n      <td></td>\n    </tr>\n    <tr>\n      <th>11</th>\n      <td>SI</td>\n      <td>Silvergate Capital Corporation</td>\n      <td>111.40</td>\n      <td>-6.62</td>\n      <td>-5.61%</td>\n      <td>669,136</td>\n      <td>1.642M</td>\n      <td>2.933B</td>\n      <td>65.38</td>\n      <td></td>\n    </tr>\n    <tr>\n      <th>12</th>\n      <td>BIG</td>\n      <td>Big Lots, Inc.</td>\n      <td>60.94</td>\n      <td>-3.60</td>\n      <td>-5.58%</td>\n      <td>3.159M</td>\n      <td>750,958</td>\n      <td>2.139B</td>\n      <td>3.78</td>\n      <td></td>\n    </tr>\n    <tr>\n      <th>13</th>\n      <td>TBVPF</td>\n      <td>Thai Beverage Public Company Limited</td>\n      <td>0.5000</td>\n      <td>-0.0290</td>\n      <td>-5.48%</td>\n      <td>72,137</td>\n      <td>54,436</td>\n      <td>12.531B</td>\n      <td>16.67</td>\n      <td></td>\n    </tr>\n    <tr>\n      <th>14</th>\n      <td>CNK</td>\n      <td>Cinemark Holdings, Inc.</td>\n      <td>22.66</td>\n      <td>-1.31</td>\n      <td>-5.47%</td>\n      <td>6.081M</td>\n      <td>3.214M</td>\n      <td>2.709B</td>\n      <td>N/A</td>\n      <td></td>\n    </tr>\n    <tr>\n      <th>15</th>\n      <td>FINV</td>\n      <td>FinVolution Group</td>\n      <td>7.52</td>\n      <td>-0.43</td>\n      <td>-5.41%</td>\n      <td>1.821M</td>\n      <td>3.685M</td>\n      <td>2.131B</td>\n      <td>N/A</td>\n      <td></td>\n    </tr>\n    <tr>\n      <th>16</th>\n      <td>RNECY</td>\n      <td>Renesas Electronics Corporation</td>\n      <td>5.13</td>\n      <td>-0.29</td>\n      <td>-5.35%</td>\n      <td>77,757</td>\n      <td>66,523</td>\n      <td>17.732B</td>\n      <td>41.20</td>\n      <td></td>\n    </tr>\n    <tr>\n      <th>17</th>\n      <td>SAML</td>\n      <td>Samsara Luggage, Inc.</td>\n      <td>2.8400</td>\n      <td>-0.1600</td>\n      <td>-5.33%</td>\n      <td>157,542</td>\n      <td>50,289</td>\n      <td>2.557M</td>\n      <td>N/A</td>\n      <td></td>\n    </tr>\n    <tr>\n      <th>18</th>\n      <td>QFIN</td>\n      <td>360 DigiTech, Inc.</td>\n      <td>28.07</td>\n      <td>-1.52</td>\n      <td>-5.14%</td>\n      <td>3.488M</td>\n      <td>2.734M</td>\n      <td>4.278B</td>\n      <td>7.89</td>\n      <td></td>\n    </tr>\n    <tr>\n      <th>19</th>\n      <td>CVI</td>\n      <td>CVR Energy, Inc.</td>\n      <td>20.75</td>\n      <td>-1.12</td>\n      <td>-5.12%</td>\n      <td>1.41M</td>\n      <td>697,023</td>\n      <td>2.086B</td>\n      <td>N/A</td>\n      <td></td>\n    </tr>\n    <tr>\n      <th>20</th>\n      <td>WISH</td>\n      <td>ContextLogic Inc.</td>\n      <td>7.94</td>\n      <td>-0.41</td>\n      <td>-4.91%</td>\n      <td>20.826M</td>\n      <td>7.958M</td>\n      <td>4.915B</td>\n      <td>N/A</td>\n      <td></td>\n    </tr>\n    <tr>\n      <th>21</th>\n      <td>GPS</td>\n      <td>The Gap, Inc.</td>\n      <td>33.45</td>\n      <td>-1.70</td>\n      <td>-4.84%</td>\n      <td>14.692M</td>\n      <td>6.625M</td>\n      <td>12.541B</td>\n      <td>N/A</td>\n      <td></td>\n    </tr>\n    <tr>\n      <th>22</th>\n      <td>MSTR</td>\n      <td>MicroStrategy Incorporated</td>\n      <td>470.00</td>\n      <td>-23.85</td>\n      <td>-4.83%</td>\n      <td>477,451</td>\n      <td>660,961</td>\n      <td>4.58B</td>\n      <td>N/A</td>\n      <td></td>\n    </tr>\n    <tr>\n      <th>23</th>\n      <td>WXXWY</td>\n      <td>WuXi Biologics (Cayman) Inc.</td>\n      <td>29.80</td>\n      <td>-1.50</td>\n      <td>-4.79%</td>\n      <td>48,586</td>\n      <td>140,580</td>\n      <td>62.579B</td>\n      <td>236.51</td>\n      <td></td>\n    </tr>\n    <tr>\n      <th>24</th>\n      <td>DDD</td>\n      <td>3D Systems Corporation</td>\n      <td>29.41</td>\n      <td>-1.48</td>\n      <td>-4.79%</td>\n      <td>6.573M</td>\n      <td>5.753M</td>\n      <td>3.678B</td>\n      <td>N/A</td>\n      <td></td>\n    </tr>\n  </tbody>\n</table>\n</div>"
     },
     "metadata": {},
     "execution_count": 9
    }
   ],
   "source": [
    "losers = scrape_table(\"https://finance.yahoo.com/losers\")\n",
    "losers"
   ]
  },
  {
   "cell_type": "code",
   "execution_count": 10,
   "metadata": {},
   "outputs": [],
   "source": [
    "from datetime import datetime"
   ]
  },
  {
   "cell_type": "code",
   "execution_count": 11,
   "metadata": {},
   "outputs": [],
   "source": [
    "def convert_column_to_float(df, columns):\n",
    "# Todo code the logic for string to float\n",
    "    for column in columns:\n",
    "        df[column] = pd.to_numeric(df[column].str.replace(',', '').str.replace('%', ''))\n",
    "    return df\n",
    "def convert_column_to_datetime(df, columns):\n",
    "# Todo code the logic for string to datetime\n",
    "    for column in columns:\n",
    "        df[column] = pd.to_datetime(df[column])\n",
    "    return df\n",
    "\n",
    "def revert_scaled_number(number):\n",
    "# toDo code the logic for converting the string apreviations back to numbers\n",
    "    mapping = {'M': 1000000, 'B': 1000000000, 'T': 1000000000000}\n",
    "    scale = number[-1]\n",
    "    if scale not in ['M', 'B', 'T']:\n",
    "        return float(number.replace(',', ''))\n",
    "    return float(number[0:-1].replace(',', '') * mapping[scale])\n"
   ]
  },
  {
   "cell_type": "code",
   "execution_count": 12,
   "metadata": {},
   "outputs": [],
   "source": [
    "# crypto = scrape_table('https://finance.yahoo.com/cryptocurrencies')\n",
    "# crypto = convert_column_to_float(crypto, ['Price (Intraday)', 'Change'])\n",
    "# crypto['Market Cap'] = crypto['Market Cap'].apply(revert_scaled_number)\n",
    "# crypto"
   ]
  },
  {
   "cell_type": "code",
   "execution_count": 16,
   "metadata": {},
   "outputs": [
    {
     "output_type": "execute_result",
     "data": {
      "text/plain": [
       "   Symbol                                  Name Price (Intraday)   Change  \\\n",
       "2      BB                    BlackBerry Limited            10.07    +0.10   \n",
       "3    PLTR            Palantir Technologies Inc.            22.95    +0.25   \n",
       "4     NOK                     Nokia Corporation             5.16    +0.09   \n",
       "9     PBR  Petróleo Brasileiro S.A. - Petrobras            10.21    +0.63   \n",
       "10   SPCE        Virgin Galactic Holdings, Inc.            31.23    +0.14   \n",
       "11    AMD          Advanced Micro Devices, Inc.            80.08    +1.66   \n",
       "12   PLUG                       Plug Power Inc.            30.70    +0.77   \n",
       "13   VALE                             Vale S.A.            21.52    +0.38   \n",
       "19   ITUB            Itaú Unibanco Holding S.A.             5.70    +0.14   \n",
       "23   ABEV                            Ambev S.A.           3.4600  +0.0900   \n",
       "24   SIRI               Sirius XM Holdings Inc.             6.25    +0.04   \n",
       "\n",
       "    % Change    Volume Avg Vol (3 month) Market Cap PE Ratio (TTM)  \\\n",
       "2       1.00  116.074M           12.699M     5.619B            N/A   \n",
       "3       1.10  111.512M           65.872M    43.071B            N/A   \n",
       "4       1.78   67.876M           39.904M    28.779B            N/A   \n",
       "9       6.58   53.797M           34.784M    66.951B           6.23   \n",
       "10      0.45   53.706M           17.823M     7.517B            N/A   \n",
       "11      2.12   40.668M           45.178M    97.299B          33.62   \n",
       "12      2.57   40.084M           37.689M    17.447B            N/A   \n",
       "13      1.80   39.061M           30.552M   110.415B          10.42   \n",
       "19      2.52   29.162M           39.127M    52.442B          14.07   \n",
       "23      2.67   21.354M           21.885M    53.769B          22.61   \n",
       "24      0.64   22.976M           21.353M    25.567B         480.77   \n",
       "\n",
       "   52 Week Range  \n",
       "2                 \n",
       "3                 \n",
       "4                 \n",
       "9                 \n",
       "10                \n",
       "11                \n",
       "12                \n",
       "13                \n",
       "19                \n",
       "23                \n",
       "24                "
      ],
      "text/html": "<div>\n<style scoped>\n    .dataframe tbody tr th:only-of-type {\n        vertical-align: middle;\n    }\n\n    .dataframe tbody tr th {\n        vertical-align: top;\n    }\n\n    .dataframe thead th {\n        text-align: right;\n    }\n</style>\n<table border=\"1\" class=\"dataframe\">\n  <thead>\n    <tr style=\"text-align: right;\">\n      <th></th>\n      <th>Symbol</th>\n      <th>Name</th>\n      <th>Price (Intraday)</th>\n      <th>Change</th>\n      <th>% Change</th>\n      <th>Volume</th>\n      <th>Avg Vol (3 month)</th>\n      <th>Market Cap</th>\n      <th>PE Ratio (TTM)</th>\n      <th>52 Week Range</th>\n    </tr>\n  </thead>\n  <tbody>\n    <tr>\n      <th>2</th>\n      <td>BB</td>\n      <td>BlackBerry Limited</td>\n      <td>10.07</td>\n      <td>+0.10</td>\n      <td>1.00</td>\n      <td>116.074M</td>\n      <td>12.699M</td>\n      <td>5.619B</td>\n      <td>N/A</td>\n      <td></td>\n    </tr>\n    <tr>\n      <th>3</th>\n      <td>PLTR</td>\n      <td>Palantir Technologies Inc.</td>\n      <td>22.95</td>\n      <td>+0.25</td>\n      <td>1.10</td>\n      <td>111.512M</td>\n      <td>65.872M</td>\n      <td>43.071B</td>\n      <td>N/A</td>\n      <td></td>\n    </tr>\n    <tr>\n      <th>4</th>\n      <td>NOK</td>\n      <td>Nokia Corporation</td>\n      <td>5.16</td>\n      <td>+0.09</td>\n      <td>1.78</td>\n      <td>67.876M</td>\n      <td>39.904M</td>\n      <td>28.779B</td>\n      <td>N/A</td>\n      <td></td>\n    </tr>\n    <tr>\n      <th>9</th>\n      <td>PBR</td>\n      <td>Petróleo Brasileiro S.A. - Petrobras</td>\n      <td>10.21</td>\n      <td>+0.63</td>\n      <td>6.58</td>\n      <td>53.797M</td>\n      <td>34.784M</td>\n      <td>66.951B</td>\n      <td>6.23</td>\n      <td></td>\n    </tr>\n    <tr>\n      <th>10</th>\n      <td>SPCE</td>\n      <td>Virgin Galactic Holdings, Inc.</td>\n      <td>31.23</td>\n      <td>+0.14</td>\n      <td>0.45</td>\n      <td>53.706M</td>\n      <td>17.823M</td>\n      <td>7.517B</td>\n      <td>N/A</td>\n      <td></td>\n    </tr>\n    <tr>\n      <th>11</th>\n      <td>AMD</td>\n      <td>Advanced Micro Devices, Inc.</td>\n      <td>80.08</td>\n      <td>+1.66</td>\n      <td>2.12</td>\n      <td>40.668M</td>\n      <td>45.178M</td>\n      <td>97.299B</td>\n      <td>33.62</td>\n      <td></td>\n    </tr>\n    <tr>\n      <th>12</th>\n      <td>PLUG</td>\n      <td>Plug Power Inc.</td>\n      <td>30.70</td>\n      <td>+0.77</td>\n      <td>2.57</td>\n      <td>40.084M</td>\n      <td>37.689M</td>\n      <td>17.447B</td>\n      <td>N/A</td>\n      <td></td>\n    </tr>\n    <tr>\n      <th>13</th>\n      <td>VALE</td>\n      <td>Vale S.A.</td>\n      <td>21.52</td>\n      <td>+0.38</td>\n      <td>1.80</td>\n      <td>39.061M</td>\n      <td>30.552M</td>\n      <td>110.415B</td>\n      <td>10.42</td>\n      <td></td>\n    </tr>\n    <tr>\n      <th>19</th>\n      <td>ITUB</td>\n      <td>Itaú Unibanco Holding S.A.</td>\n      <td>5.70</td>\n      <td>+0.14</td>\n      <td>2.52</td>\n      <td>29.162M</td>\n      <td>39.127M</td>\n      <td>52.442B</td>\n      <td>14.07</td>\n      <td></td>\n    </tr>\n    <tr>\n      <th>23</th>\n      <td>ABEV</td>\n      <td>Ambev S.A.</td>\n      <td>3.4600</td>\n      <td>+0.0900</td>\n      <td>2.67</td>\n      <td>21.354M</td>\n      <td>21.885M</td>\n      <td>53.769B</td>\n      <td>22.61</td>\n      <td></td>\n    </tr>\n    <tr>\n      <th>24</th>\n      <td>SIRI</td>\n      <td>Sirius XM Holdings Inc.</td>\n      <td>6.25</td>\n      <td>+0.04</td>\n      <td>0.64</td>\n      <td>22.976M</td>\n      <td>21.353M</td>\n      <td>25.567B</td>\n      <td>480.77</td>\n      <td></td>\n    </tr>\n  </tbody>\n</table>\n</div>"
     },
     "metadata": {},
     "execution_count": 16
    }
   ],
   "source": [
    "activestocks = scrape_table(\"https://finance.yahoo.com/most-active\")\n",
    "\n",
    "activestocks = convert_column_to_float(activestocks, [ '% Change'])\n",
    "\n",
    "rising = activestocks[activestocks['% Change'] > 0]\n",
    "losing = activestocks[activestocks['% Change'] < 0]\n",
    "\n",
    "rising"
   ]
  },
  {
   "cell_type": "code",
   "execution_count": 17,
   "metadata": {},
   "outputs": [
    {
     "output_type": "error",
     "ename": "AttributeError",
     "evalue": "'DataFrame' object has no attribute 'sort_value'",
     "traceback": [
      "\u001b[0;31m---------------------------------------------------------------------------\u001b[0m",
      "\u001b[0;31mAttributeError\u001b[0m                            Traceback (most recent call last)",
      "\u001b[0;32m<ipython-input-17-5850c00f2e37>\u001b[0m in \u001b[0;36m<module>\u001b[0;34m\u001b[0m\n\u001b[0;32m----> 1\u001b[0;31m \u001b[0mrising\u001b[0m \u001b[0;34m=\u001b[0m \u001b[0mrising\u001b[0m\u001b[0;34m.\u001b[0m\u001b[0msort_value\u001b[0m\u001b[0;34m(\u001b[0m\u001b[0mby\u001b[0m\u001b[0;34m=\u001b[0m\u001b[0;34m[\u001b[0m\u001b[0;34m'% Change'\u001b[0m\u001b[0;34m]\u001b[0m\u001b[0;34m,\u001b[0m \u001b[0mascending\u001b[0m\u001b[0;34m=\u001b[0m\u001b[0;32mFalse\u001b[0m\u001b[0;34m)\u001b[0m\u001b[0;34m\u001b[0m\u001b[0;34m\u001b[0m\u001b[0m\n\u001b[0m\u001b[1;32m      2\u001b[0m \u001b[0mlosing\u001b[0m \u001b[0;34m=\u001b[0m \u001b[0mlosing\u001b[0m\u001b[0;34m.\u001b[0m\u001b[0msort_value\u001b[0m\u001b[0;34m(\u001b[0m\u001b[0mby\u001b[0m\u001b[0;34m=\u001b[0m\u001b[0;34m[\u001b[0m\u001b[0;34m'% Change'\u001b[0m\u001b[0;34m]\u001b[0m\u001b[0;34m,\u001b[0m \u001b[0mascending\u001b[0m\u001b[0;34m=\u001b[0m\u001b[0;32mTrue\u001b[0m\u001b[0;34m)\u001b[0m\u001b[0;34m\u001b[0m\u001b[0;34m\u001b[0m\u001b[0m\n",
      "\u001b[0;32m/usr/local/lib/python3.9/site-packages/pandas/core/generic.py\u001b[0m in \u001b[0;36m__getattr__\u001b[0;34m(self, name)\u001b[0m\n\u001b[1;32m   5458\u001b[0m             \u001b[0;32mif\u001b[0m \u001b[0mself\u001b[0m\u001b[0;34m.\u001b[0m\u001b[0m_info_axis\u001b[0m\u001b[0;34m.\u001b[0m\u001b[0m_can_hold_identifiers_and_holds_name\u001b[0m\u001b[0;34m(\u001b[0m\u001b[0mname\u001b[0m\u001b[0;34m)\u001b[0m\u001b[0;34m:\u001b[0m\u001b[0;34m\u001b[0m\u001b[0;34m\u001b[0m\u001b[0m\n\u001b[1;32m   5459\u001b[0m                 \u001b[0;32mreturn\u001b[0m \u001b[0mself\u001b[0m\u001b[0;34m[\u001b[0m\u001b[0mname\u001b[0m\u001b[0;34m]\u001b[0m\u001b[0;34m\u001b[0m\u001b[0;34m\u001b[0m\u001b[0m\n\u001b[0;32m-> 5460\u001b[0;31m             \u001b[0;32mreturn\u001b[0m \u001b[0mobject\u001b[0m\u001b[0;34m.\u001b[0m\u001b[0m__getattribute__\u001b[0m\u001b[0;34m(\u001b[0m\u001b[0mself\u001b[0m\u001b[0;34m,\u001b[0m \u001b[0mname\u001b[0m\u001b[0;34m)\u001b[0m\u001b[0;34m\u001b[0m\u001b[0;34m\u001b[0m\u001b[0m\n\u001b[0m\u001b[1;32m   5461\u001b[0m \u001b[0;34m\u001b[0m\u001b[0m\n\u001b[1;32m   5462\u001b[0m     \u001b[0;32mdef\u001b[0m \u001b[0m__setattr__\u001b[0m\u001b[0;34m(\u001b[0m\u001b[0mself\u001b[0m\u001b[0;34m,\u001b[0m \u001b[0mname\u001b[0m\u001b[0;34m:\u001b[0m \u001b[0mstr\u001b[0m\u001b[0;34m,\u001b[0m \u001b[0mvalue\u001b[0m\u001b[0;34m)\u001b[0m \u001b[0;34m->\u001b[0m \u001b[0;32mNone\u001b[0m\u001b[0;34m:\u001b[0m\u001b[0;34m\u001b[0m\u001b[0;34m\u001b[0m\u001b[0m\n",
      "\u001b[0;31mAttributeError\u001b[0m: 'DataFrame' object has no attribute 'sort_value'"
     ]
    }
   ],
   "source": [
    "rising = rising.sort_values(by=['% Change'], ascending=False)\n",
    "losing = losing.sort_values(by=['% Change'], ascending=True)"
   ]
  },
  {
   "cell_type": "code",
   "execution_count": null,
   "metadata": {},
   "outputs": [],
   "source": []
  }
 ]
}